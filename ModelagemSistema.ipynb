{
 "cells": [
  {
   "cell_type": "markdown",
   "id": "3feea191",
   "metadata": {},
   "source": [
    "## Modelagem de Sistema Trabalho final"
   ]
  },
  {
   "cell_type": "code",
   "execution_count": null,
   "id": "8d029c47",
   "metadata": {},
   "outputs": [],
   "source": [
    "class Cliente:\n",
    "    \n",
    "    def __init__(self, nome, email, cpf):\n",
    "        self.nome = nome \n",
    "        self.email = email\n",
    "        self.cpf = cpf\n",
    "    \n",
    "    def setNome(self nome):\n",
    "          self.nome = nome\n",
    "    \n",
    "    def setEmail(self, email):\n",
    "          self.email = email\n",
    "    \n",
    "    def setCpf(self, cpf):\n",
    "          self.cpf = cpf\n",
    "            \n",
    "    def getNome(self, nome):\n",
    "          self.nome = nome\n",
    "    \n",
    "    def getEmail(self, email):\n",
    "          self.email = email\n",
    "                \n",
    "    def getCpf(self, cpf):\n",
    "          self.cpf = cpf\n",
    "                    \n",
    "    def logar(self, email, senha):\n",
    "        self.email = email\n",
    "        self.senha = senha\n",
    "        \n",
    "    def alugarFilme(self, titulo, genero, preco):\n",
    "        self.titulo = titulo\n",
    "        self.genero = genero\n",
    "        self.preco = preco\n",
    "        \n",
    "    def contratar_pacote(self, internet, stream, telefone):\n",
    "        self.internet = internet\n",
    "        self.stream = stream\n",
    "        self.telefone = telefone\n",
    "        \n",
    "    def pagarFatura(self, mes, total_fatura,)\n",
    "        self.mes = mes\n",
    "        self.total_fatura\n",
    "    \n",
    "        "
   ]
  },
  {
   "cell_type": "code",
   "execution_count": null,
   "id": "db9299f2",
   "metadata": {},
   "outputs": [],
   "source": [
    "from cliente import cliente\n",
    "\n",
    "class Sistema:\n",
    "    \n",
    "    def cadastrar(cliente):\n",
    "        self.nome = nome\n",
    "        self.email = email\n",
    "        self.cpf = cpf\n",
    "        \n",
    "    \n",
    "    def gerar_fatura(clinte):\n",
    "        self.nome = nome\n",
    "        self.cpf = cpf\n",
    "        \n",
    "    def vender_stream(self, stream, preco):\n",
    "        self.stream = stream\n",
    "        self.preco = preco\n",
    "        \n",
    "    def vender_telefonia(self, telefone, mensalidade):\n",
    "        self.telefone = telefone\n",
    "         self.mensalidade = mensalidade\n",
    "        \n",
    "    def vender_internet(self, internet, mensalidade):\n",
    "        self.internet = internet\n",
    "        self.mensalidade = mensalidade\n",
    "    \n",
    "    "
   ]
  }
 ],
 "metadata": {
  "kernelspec": {
   "display_name": "Python 3 (ipykernel)",
   "language": "python",
   "name": "python3"
  },
  "language_info": {
   "codemirror_mode": {
    "name": "ipython",
    "version": 3
   },
   "file_extension": ".py",
   "mimetype": "text/x-python",
   "name": "python",
   "nbconvert_exporter": "python",
   "pygments_lexer": "ipython3",
   "version": "3.9.7"
  }
 },
 "nbformat": 4,
 "nbformat_minor": 5
}
